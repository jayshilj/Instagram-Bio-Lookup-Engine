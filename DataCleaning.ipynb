{
 "cells": [
  {
   "cell_type": "markdown",
   "metadata": {},
   "source": [
    "## Importing the Pandas Library and dataset"
   ]
  },
  {
   "cell_type": "code",
   "execution_count": 2,
   "metadata": {},
   "outputs": [],
   "source": [
    "import pandas as pd"
   ]
  },
  {
   "cell_type": "code",
   "execution_count": 3,
   "metadata": {},
   "outputs": [],
   "source": [
    "data= pd.read_csv('temporary_instagram')"
   ]
  },
  {
   "cell_type": "code",
   "execution_count": 4,
   "metadata": {},
   "outputs": [
    {
     "data": {
      "text/plain": [
       "(10494, 3)"
      ]
     },
     "execution_count": 4,
     "metadata": {},
     "output_type": "execute_result"
    }
   ],
   "source": [
    "data.shape"
   ]
  },
  {
   "cell_type": "code",
   "execution_count": 5,
   "metadata": {},
   "outputs": [
    {
     "data": {
      "text/html": [
       "<div>\n",
       "<style scoped>\n",
       "    .dataframe tbody tr th:only-of-type {\n",
       "        vertical-align: middle;\n",
       "    }\n",
       "\n",
       "    .dataframe tbody tr th {\n",
       "        vertical-align: top;\n",
       "    }\n",
       "\n",
       "    .dataframe thead th {\n",
       "        text-align: right;\n",
       "    }\n",
       "</style>\n",
       "<table border=\"1\" class=\"dataframe\">\n",
       "  <thead>\n",
       "    <tr style=\"text-align: right;\">\n",
       "      <th></th>\n",
       "      <th>pk</th>\n",
       "      <th>username</th>\n",
       "      <th>biography</th>\n",
       "    </tr>\n",
       "  </thead>\n",
       "  <tbody>\n",
       "    <tr>\n",
       "      <th>0</th>\n",
       "      <td>561624374</td>\n",
       "      <td>ruslankhoma</td>\n",
       "      <td>none</td>\n",
       "    </tr>\n",
       "    <tr>\n",
       "      <th>1</th>\n",
       "      <td>3100245616</td>\n",
       "      <td>lukeladeur</td>\n",
       "      <td>EDM | The Office | Tacos\\nUniversity of Kansas...</td>\n",
       "    </tr>\n",
       "    <tr>\n",
       "      <th>2</th>\n",
       "      <td>1392217914</td>\n",
       "      <td>p.swi</td>\n",
       "      <td>UIUC '19</td>\n",
       "    </tr>\n",
       "    <tr>\n",
       "      <th>3</th>\n",
       "      <td>18771979</td>\n",
       "      <td>brianna.moling</td>\n",
       "      <td>uic ‘22 | sc: briannaa.taylor</td>\n",
       "    </tr>\n",
       "    <tr>\n",
       "      <th>4</th>\n",
       "      <td>4386316947</td>\n",
       "      <td>akukhtyn</td>\n",
       "      <td>none</td>\n",
       "    </tr>\n",
       "  </tbody>\n",
       "</table>\n",
       "</div>"
      ],
      "text/plain": [
       "           pk        username  \\\n",
       "0   561624374     ruslankhoma   \n",
       "1  3100245616      lukeladeur   \n",
       "2  1392217914           p.swi   \n",
       "3    18771979  brianna.moling   \n",
       "4  4386316947        akukhtyn   \n",
       "\n",
       "                                           biography  \n",
       "0                                               none  \n",
       "1  EDM | The Office | Tacos\\nUniversity of Kansas...  \n",
       "2                                           UIUC '19  \n",
       "3                      uic ‘22 | sc: briannaa.taylor  \n",
       "4                                               none  "
      ]
     },
     "execution_count": 5,
     "metadata": {},
     "output_type": "execute_result"
    }
   ],
   "source": [
    "data.head()"
   ]
  },
  {
   "cell_type": "markdown",
   "metadata": {},
   "source": [
    "## Removing users with no biography"
   ]
  },
  {
   "cell_type": "code",
   "execution_count": 10,
   "metadata": {},
   "outputs": [],
   "source": [
    "data=data.loc[data['biography']!='none']"
   ]
  },
  {
   "cell_type": "code",
   "execution_count": 11,
   "metadata": {},
   "outputs": [
    {
     "data": {
      "text/plain": [
       "(8726, 3)"
      ]
     },
     "execution_count": 11,
     "metadata": {},
     "output_type": "execute_result"
    }
   ],
   "source": [
    "data.shape"
   ]
  },
  {
   "cell_type": "markdown",
   "metadata": {},
   "source": [
    "## Renoving symbols, smileys and other non-useful keys from biography"
   ]
  },
  {
   "cell_type": "code",
   "execution_count": 13,
   "metadata": {},
   "outputs": [],
   "source": [
    "def convert_to_string(value):\n",
    "    value = str(value)\n",
    "    return value.encode('ascii','ignore').decode(\"utf-8\")"
   ]
  },
  {
   "cell_type": "code",
   "execution_count": 14,
   "metadata": {},
   "outputs": [],
   "source": [
    "data['biography']=data.biography.apply(convert_to_string)"
   ]
  },
  {
   "cell_type": "code",
   "execution_count": 15,
   "metadata": {},
   "outputs": [
    {
     "data": {
      "text/html": [
       "<div>\n",
       "<style scoped>\n",
       "    .dataframe tbody tr th:only-of-type {\n",
       "        vertical-align: middle;\n",
       "    }\n",
       "\n",
       "    .dataframe tbody tr th {\n",
       "        vertical-align: top;\n",
       "    }\n",
       "\n",
       "    .dataframe thead th {\n",
       "        text-align: right;\n",
       "    }\n",
       "</style>\n",
       "<table border=\"1\" class=\"dataframe\">\n",
       "  <thead>\n",
       "    <tr style=\"text-align: right;\">\n",
       "      <th></th>\n",
       "      <th>pk</th>\n",
       "      <th>username</th>\n",
       "      <th>biography</th>\n",
       "    </tr>\n",
       "  </thead>\n",
       "  <tbody>\n",
       "    <tr>\n",
       "      <th>1</th>\n",
       "      <td>3100245616</td>\n",
       "      <td>lukeladeur</td>\n",
       "      <td>EDM | The Office | Tacos\\nUniversity of Kansas...</td>\n",
       "    </tr>\n",
       "    <tr>\n",
       "      <th>2</th>\n",
       "      <td>1392217914</td>\n",
       "      <td>p.swi</td>\n",
       "      <td>UIUC '19</td>\n",
       "    </tr>\n",
       "    <tr>\n",
       "      <th>3</th>\n",
       "      <td>18771979</td>\n",
       "      <td>brianna.moling</td>\n",
       "      <td>uic 22 | sc: briannaa.taylor</td>\n",
       "    </tr>\n",
       "    <tr>\n",
       "      <th>5</th>\n",
       "      <td>12421857172</td>\n",
       "      <td>vitaliyvoz</td>\n",
       "      <td>Chicago \\nUIC 18</td>\n",
       "    </tr>\n",
       "    <tr>\n",
       "      <th>7</th>\n",
       "      <td>4221164414</td>\n",
       "      <td>themayfairgroup</td>\n",
       "      <td>PR  CONTENT  SOCIAL  SALES  MERCH\\n@wildflower...</td>\n",
       "    </tr>\n",
       "  </tbody>\n",
       "</table>\n",
       "</div>"
      ],
      "text/plain": [
       "            pk         username  \\\n",
       "1   3100245616       lukeladeur   \n",
       "2   1392217914            p.swi   \n",
       "3     18771979   brianna.moling   \n",
       "5  12421857172       vitaliyvoz   \n",
       "7   4221164414  themayfairgroup   \n",
       "\n",
       "                                           biography  \n",
       "1  EDM | The Office | Tacos\\nUniversity of Kansas...  \n",
       "2                                           UIUC '19  \n",
       "3                       uic 22 | sc: briannaa.taylor  \n",
       "5                                   Chicago \\nUIC 18  \n",
       "7  PR  CONTENT  SOCIAL  SALES  MERCH\\n@wildflower...  "
      ]
     },
     "execution_count": 15,
     "metadata": {},
     "output_type": "execute_result"
    }
   ],
   "source": [
    "data.head()"
   ]
  },
  {
   "cell_type": "markdown",
   "metadata": {},
   "source": [
    "## Removing instagram users that were repeated"
   ]
  },
  {
   "cell_type": "code",
   "execution_count": 16,
   "metadata": {},
   "outputs": [],
   "source": [
    "key=['pk']\n",
    "data.drop_duplicates(subset=key, keep='first', inplace=True)"
   ]
  },
  {
   "cell_type": "code",
   "execution_count": 18,
   "metadata": {},
   "outputs": [
    {
     "data": {
      "text/plain": [
       "8195"
      ]
     },
     "execution_count": 18,
     "metadata": {},
     "output_type": "execute_result"
    }
   ],
   "source": [
    "data.shape[0]"
   ]
  },
  {
   "cell_type": "markdown",
   "metadata": {},
   "source": [
    "## Lets check the impact of \\r"
   ]
  },
  {
   "cell_type": "code",
   "execution_count": 19,
   "metadata": {},
   "outputs": [
    {
     "name": "stdout",
     "output_type": "stream",
     "text": [
      "My Name is \r",
      " Devansh\n"
     ]
    }
   ],
   "source": [
    "print(\"My Name is \\r Devansh\")"
   ]
  },
  {
   "cell_type": "code",
   "execution_count": 20,
   "metadata": {},
   "outputs": [
    {
     "name": "stdout",
     "output_type": "stream",
     "text": [
      "My Name is Devansh\n"
     ]
    }
   ],
   "source": [
    "print(\"My Name is Devansh\")"
   ]
  },
  {
   "cell_type": "code",
   "execution_count": 21,
   "metadata": {},
   "outputs": [
    {
     "name": "stdout",
     "output_type": "stream",
     "text": [
      "I \r",
      " am Devansh Popat\n"
     ]
    }
   ],
   "source": [
    "print(\"I \\r am Devansh Popat\")"
   ]
  },
  {
   "cell_type": "markdown",
   "metadata": {},
   "source": [
    "## We dont want unessential spaces and lines in biography"
   ]
  },
  {
   "cell_type": "code",
   "execution_count": 22,
   "metadata": {},
   "outputs": [],
   "source": [
    "def strip_newlines(value):\n",
    "    return value.replace('\\n', ' ').replace('\\r', '')"
   ]
  },
  {
   "cell_type": "code",
   "execution_count": 23,
   "metadata": {},
   "outputs": [],
   "source": [
    "data['biography']=data.biography.apply(strip_newlines)"
   ]
  },
  {
   "cell_type": "markdown",
   "metadata": {},
   "source": [
    "## Used this function to "
   ]
  },
  {
   "cell_type": "code",
   "execution_count": 25,
   "metadata": {},
   "outputs": [],
   "source": [
    "pd.set_option('display.max_colwidth', -1)"
   ]
  },
  {
   "cell_type": "code",
   "execution_count": 26,
   "metadata": {},
   "outputs": [
    {
     "data": {
      "text/html": [
       "<div>\n",
       "<style scoped>\n",
       "    .dataframe tbody tr th:only-of-type {\n",
       "        vertical-align: middle;\n",
       "    }\n",
       "\n",
       "    .dataframe tbody tr th {\n",
       "        vertical-align: top;\n",
       "    }\n",
       "\n",
       "    .dataframe thead th {\n",
       "        text-align: right;\n",
       "    }\n",
       "</style>\n",
       "<table border=\"1\" class=\"dataframe\">\n",
       "  <thead>\n",
       "    <tr style=\"text-align: right;\">\n",
       "      <th></th>\n",
       "      <th>pk</th>\n",
       "      <th>username</th>\n",
       "      <th>biography</th>\n",
       "    </tr>\n",
       "  </thead>\n",
       "  <tbody>\n",
       "    <tr>\n",
       "      <th>1</th>\n",
       "      <td>3100245616</td>\n",
       "      <td>lukeladeur</td>\n",
       "      <td>EDM | The Office | Tacos University of Kansas '17  Sunset Music Festival Chicago</td>\n",
       "    </tr>\n",
       "    <tr>\n",
       "      <th>2</th>\n",
       "      <td>1392217914</td>\n",
       "      <td>p.swi</td>\n",
       "      <td>UIUC '19</td>\n",
       "    </tr>\n",
       "    <tr>\n",
       "      <th>3</th>\n",
       "      <td>18771979</td>\n",
       "      <td>brianna.moling</td>\n",
       "      <td>uic 22 | sc: briannaa.taylor</td>\n",
       "    </tr>\n",
       "    <tr>\n",
       "      <th>5</th>\n",
       "      <td>12421857172</td>\n",
       "      <td>vitaliyvoz</td>\n",
       "      <td>Chicago  UIC 18</td>\n",
       "    </tr>\n",
       "    <tr>\n",
       "      <th>7</th>\n",
       "      <td>4221164414</td>\n",
       "      <td>themayfairgroup</td>\n",
       "      <td>PR  CONTENT  SOCIAL  SALES  MERCH @wildflowercases @sage_thelabel @yunis_k @notanotherlabel @eastnwestlabel @cuffedbynano @setactive</td>\n",
       "    </tr>\n",
       "  </tbody>\n",
       "</table>\n",
       "</div>"
      ],
      "text/plain": [
       "            pk         username  \\\n",
       "1  3100245616   lukeladeur        \n",
       "2  1392217914   p.swi             \n",
       "3  18771979     brianna.moling    \n",
       "5  12421857172  vitaliyvoz        \n",
       "7  4221164414   themayfairgroup   \n",
       "\n",
       "                                                                                                                              biography  \n",
       "1  EDM | The Office | Tacos University of Kansas '17  Sunset Music Festival Chicago                                                      \n",
       "2  UIUC '19                                                                                                                              \n",
       "3  uic 22 | sc: briannaa.taylor                                                                                                          \n",
       "5  Chicago  UIC 18                                                                                                                       \n",
       "7  PR  CONTENT  SOCIAL  SALES  MERCH @wildflowercases @sage_thelabel @yunis_k @notanotherlabel @eastnwestlabel @cuffedbynano @setactive  "
      ]
     },
     "execution_count": 26,
     "metadata": {},
     "output_type": "execute_result"
    }
   ],
   "source": [
    "data.head()"
   ]
  },
  {
   "cell_type": "code",
   "execution_count": null,
   "metadata": {},
   "outputs": [],
   "source": []
  }
 ],
 "metadata": {
  "kernelspec": {
   "display_name": "Python 3",
   "language": "python",
   "name": "python3"
  },
  "language_info": {
   "codemirror_mode": {
    "name": "ipython",
    "version": 3
   },
   "file_extension": ".py",
   "mimetype": "text/x-python",
   "name": "python",
   "nbconvert_exporter": "python",
   "pygments_lexer": "ipython3",
   "version": "3.6.8"
  }
 },
 "nbformat": 4,
 "nbformat_minor": 2
}
